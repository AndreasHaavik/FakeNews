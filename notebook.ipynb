{
 "cells": [
  {
   "cell_type": "markdown",
   "metadata": {},
   "source": [
    "1. Libraries"
   ]
  },
  {
   "cell_type": "code",
   "execution_count": 1,
   "metadata": {},
   "outputs": [
    {
     "name": "stderr",
     "output_type": "stream",
     "text": [
      "/var/folders/9p/7sb9_6rs4k14xg5ncv4qnqhm0000gn/T/ipykernel_53423/4220606287.py:2: DeprecationWarning: \n",
      "Pyarrow will become a required dependency of pandas in the next major release of pandas (pandas 3.0),\n",
      "(to allow more performant data types, such as the Arrow string type, and better interoperability with other libraries)\n",
      "but was not found to be installed on your system.\n",
      "If this would cause problems for you,\n",
      "please provide us feedback at https://github.com/pandas-dev/pandas/issues/54466\n",
      "        \n",
      "  import pandas as pd\n"
     ]
    }
   ],
   "source": [
    "#Data Understanding and Preparation\n",
    "import pandas as pd\n",
    "import numpy as np\n",
    "import matplotlib.pyplot as plt\n",
    "import seaborn as sns"
   ]
  },
  {
   "cell_type": "code",
   "execution_count": 2,
   "metadata": {},
   "outputs": [],
   "source": [
    "fake = pd.read_csv('Fake.csv')\n",
    "true = pd.read_csv('True.csv')\n",
    "\n"
   ]
  },
  {
   "cell_type": "code",
   "execution_count": 3,
   "metadata": {},
   "outputs": [
    {
     "data": {
      "text/plain": [
       "23481"
      ]
     },
     "execution_count": 3,
     "metadata": {},
     "output_type": "execute_result"
    }
   ],
   "source": [
    "len(fake)"
   ]
  },
  {
   "cell_type": "code",
   "execution_count": 4,
   "metadata": {},
   "outputs": [
    {
     "data": {
      "text/plain": [
       "21417"
      ]
     },
     "execution_count": 4,
     "metadata": {},
     "output_type": "execute_result"
    }
   ],
   "source": [
    "len(true)"
   ]
  },
  {
   "cell_type": "code",
   "execution_count": 6,
   "metadata": {},
   "outputs": [],
   "source": [
    "fake['label'] = 1\n",
    "true['label']=0"
   ]
  },
  {
   "cell_type": "code",
   "execution_count": 7,
   "metadata": {},
   "outputs": [
    {
     "name": "stdout",
     "output_type": "stream",
     "text": [
      "Index(['title', 'text', 'subject', 'date', 'label'], dtype='object')\n"
     ]
    }
   ],
   "source": [
    "df_concated = pd.concat([fake, true])\n",
    "permutation = np.random.permutation(len(df_concated))\n",
    "df = df_concated.iloc[permutation]\n",
    "print(df.columns)"
   ]
  },
  {
   "cell_type": "code",
   "execution_count": 13,
   "metadata": {},
   "outputs": [
    {
     "data": {
      "text/html": [
       "<div>\n",
       "<style scoped>\n",
       "    .dataframe tbody tr th:only-of-type {\n",
       "        vertical-align: middle;\n",
       "    }\n",
       "\n",
       "    .dataframe tbody tr th {\n",
       "        vertical-align: top;\n",
       "    }\n",
       "\n",
       "    .dataframe thead th {\n",
       "        text-align: right;\n",
       "    }\n",
       "</style>\n",
       "<table border=\"1\" class=\"dataframe\">\n",
       "  <thead>\n",
       "    <tr style=\"text-align: right;\">\n",
       "      <th></th>\n",
       "      <th>title</th>\n",
       "      <th>text</th>\n",
       "      <th>subject</th>\n",
       "      <th>label</th>\n",
       "    </tr>\n",
       "  </thead>\n",
       "  <tbody>\n",
       "    <tr>\n",
       "      <th>5824</th>\n",
       "      <td>WATCH: Republican Army Colonel Hammers Gun Nu...</td>\n",
       "      <td>This is one of the most epic smack downs of a ...</td>\n",
       "      <td>News</td>\n",
       "      <td>1</td>\n",
       "    </tr>\n",
       "    <tr>\n",
       "      <th>20658</th>\n",
       "      <td>Minor New Zealand parties in focus as hotly co...</td>\n",
       "      <td>WELLINGTON (Reuters) - The rising popularity o...</td>\n",
       "      <td>worldnews</td>\n",
       "      <td>0</td>\n",
       "    </tr>\n",
       "    <tr>\n",
       "      <th>21065</th>\n",
       "      <td>U.N. chief calls for united, 'appropriate acti...</td>\n",
       "      <td>UNITED NATIONS (Reuters) - United Nations Secr...</td>\n",
       "      <td>worldnews</td>\n",
       "      <td>0</td>\n",
       "    </tr>\n",
       "    <tr>\n",
       "      <th>20249</th>\n",
       "      <td>Biafra separatists, Nigerian army disagree ove...</td>\n",
       "      <td>ONITSHA, Nigeria (Reuters) - A group campaigni...</td>\n",
       "      <td>worldnews</td>\n",
       "      <td>0</td>\n",
       "    </tr>\n",
       "    <tr>\n",
       "      <th>4019</th>\n",
       "      <td>Taiwan says no plans 'at this stage' for phone...</td>\n",
       "      <td>TAIPEI (Reuters) - Taiwan’s presidential offic...</td>\n",
       "      <td>politicsNews</td>\n",
       "      <td>0</td>\n",
       "    </tr>\n",
       "    <tr>\n",
       "      <th>...</th>\n",
       "      <td>...</td>\n",
       "      <td>...</td>\n",
       "      <td>...</td>\n",
       "      <td>...</td>\n",
       "    </tr>\n",
       "    <tr>\n",
       "      <th>5641</th>\n",
       "      <td>Denis Leary Rips Trump A New One For Using 9/...</td>\n",
       "      <td>Comedian Denis Leary has donated a lot of his ...</td>\n",
       "      <td>News</td>\n",
       "      <td>1</td>\n",
       "    </tr>\n",
       "    <tr>\n",
       "      <th>12787</th>\n",
       "      <td>WATCH HUGE CROWD CHEER When Asked If Trump Sho...</td>\n",
       "      <td></td>\n",
       "      <td>politics</td>\n",
       "      <td>1</td>\n",
       "    </tr>\n",
       "    <tr>\n",
       "      <th>16131</th>\n",
       "      <td>Dutch begin trial over 1970s Ethiopian war crimes</td>\n",
       "      <td>AMSTERDAM (Reuters) - A man faced war crimes c...</td>\n",
       "      <td>worldnews</td>\n",
       "      <td>0</td>\n",
       "    </tr>\n",
       "    <tr>\n",
       "      <th>9995</th>\n",
       "      <td>LOL! SHAKEDOWN ARTIST JESSE JACKSON TELLS CROW...</td>\n",
       "      <td>Here s a 1999 video of Jesse Jackson praising ...</td>\n",
       "      <td>politics</td>\n",
       "      <td>1</td>\n",
       "    </tr>\n",
       "    <tr>\n",
       "      <th>1326</th>\n",
       "      <td>Oregon Republican Wants To Put Right-Wing Mil...</td>\n",
       "      <td>After Friday s right-wing terror attack in Por...</td>\n",
       "      <td>News</td>\n",
       "      <td>1</td>\n",
       "    </tr>\n",
       "  </tbody>\n",
       "</table>\n",
       "<p>44689 rows × 4 columns</p>\n",
       "</div>"
      ],
      "text/plain": [
       "                                                   title  \\\n",
       "5824    WATCH: Republican Army Colonel Hammers Gun Nu...   \n",
       "20658  Minor New Zealand parties in focus as hotly co...   \n",
       "21065  U.N. chief calls for united, 'appropriate acti...   \n",
       "20249  Biafra separatists, Nigerian army disagree ove...   \n",
       "4019   Taiwan says no plans 'at this stage' for phone...   \n",
       "...                                                  ...   \n",
       "5641    Denis Leary Rips Trump A New One For Using 9/...   \n",
       "12787  WATCH HUGE CROWD CHEER When Asked If Trump Sho...   \n",
       "16131  Dutch begin trial over 1970s Ethiopian war crimes   \n",
       "9995   LOL! SHAKEDOWN ARTIST JESSE JACKSON TELLS CROW...   \n",
       "1326    Oregon Republican Wants To Put Right-Wing Mil...   \n",
       "\n",
       "                                                    text       subject  label  \n",
       "5824   This is one of the most epic smack downs of a ...          News      1  \n",
       "20658  WELLINGTON (Reuters) - The rising popularity o...     worldnews      0  \n",
       "21065  UNITED NATIONS (Reuters) - United Nations Secr...     worldnews      0  \n",
       "20249  ONITSHA, Nigeria (Reuters) - A group campaigni...     worldnews      0  \n",
       "4019   TAIPEI (Reuters) - Taiwan’s presidential offic...  politicsNews      0  \n",
       "...                                                  ...           ...    ...  \n",
       "5641   Comedian Denis Leary has donated a lot of his ...          News      1  \n",
       "12787                                                         politics      1  \n",
       "16131  AMSTERDAM (Reuters) - A man faced war crimes c...     worldnews      0  \n",
       "9995   Here s a 1999 video of Jesse Jackson praising ...      politics      1  \n",
       "1326   After Friday s right-wing terror attack in Por...          News      1  \n",
       "\n",
       "[44689 rows x 4 columns]"
      ]
     },
     "execution_count": 13,
     "metadata": {},
     "output_type": "execute_result"
    }
   ],
   "source": [
    "df.drop(columns=['date'])"
   ]
  },
  {
   "cell_type": "code",
   "execution_count": 8,
   "metadata": {},
   "outputs": [
    {
     "data": {
      "text/plain": [
       "209"
      ]
     },
     "execution_count": 8,
     "metadata": {},
     "output_type": "execute_result"
    }
   ],
   "source": [
    "df.duplicated().sum()"
   ]
  },
  {
   "cell_type": "code",
   "execution_count": 9,
   "metadata": {},
   "outputs": [
    {
     "data": {
      "text/plain": [
       "(44689, 5)"
      ]
     },
     "execution_count": 9,
     "metadata": {},
     "output_type": "execute_result"
    }
   ],
   "source": [
    "df = df.drop_duplicates()\n",
    "\n",
    "df.shape"
   ]
  },
  {
   "cell_type": "code",
   "execution_count": 11,
   "metadata": {},
   "outputs": [
    {
     "name": "stdout",
     "output_type": "stream",
     "text": [
      "title      0\n",
      "text       0\n",
      "subject    0\n",
      "date       0\n",
      "label      0\n",
      "dtype: int64\n"
     ]
    }
   ],
   "source": [
    "nan_count_per_column = df.isnull().sum()\n",
    "\n",
    "print(nan_count_per_column)"
   ]
  },
  {
   "cell_type": "code",
   "execution_count": null,
   "metadata": {},
   "outputs": [],
   "source": []
  }
 ],
 "metadata": {
  "kernelspec": {
   "display_name": "Python 3",
   "language": "python",
   "name": "python3"
  },
  "language_info": {
   "codemirror_mode": {
    "name": "ipython",
    "version": 3
   },
   "file_extension": ".py",
   "mimetype": "text/x-python",
   "name": "python",
   "nbconvert_exporter": "python",
   "pygments_lexer": "ipython3",
   "version": "3.9.12"
  }
 },
 "nbformat": 4,
 "nbformat_minor": 2
}
