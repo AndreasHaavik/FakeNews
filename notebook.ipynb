{
 "cells": [
  {
   "cell_type": "markdown",
   "metadata": {},
   "source": [
    "1. Libraries"
   ]
  },
  {
   "cell_type": "code",
   "execution_count": 1,
   "metadata": {},
   "outputs": [],
   "source": [
    "#Data Understanding and Preparation\n",
    "import pandas as pd\n",
    "import numpy as np\n",
    "import matplotlib.pyplot as plt\n",
    "import seaborn as sns"
   ]
  },
  {
   "cell_type": "code",
   "execution_count": 2,
   "metadata": {},
   "outputs": [],
   "source": [
    "fake = pd.read_csv('Fake.csv')\n",
    "true = pd.read_csv('True.csv')\n",
    "\n"
   ]
  },
  {
   "cell_type": "code",
   "execution_count": 3,
   "metadata": {},
   "outputs": [
    {
     "data": {
      "text/plain": [
       "23481"
      ]
     },
     "execution_count": 3,
     "metadata": {},
     "output_type": "execute_result"
    }
   ],
   "source": [
    "len(fake)"
   ]
  },
  {
   "cell_type": "code",
   "execution_count": 4,
   "metadata": {},
   "outputs": [
    {
     "data": {
      "text/plain": [
       "21417"
      ]
     },
     "execution_count": 4,
     "metadata": {},
     "output_type": "execute_result"
    }
   ],
   "source": [
    "len(true)"
   ]
  },
  {
   "cell_type": "code",
   "execution_count": 5,
   "metadata": {},
   "outputs": [],
   "source": [
    "fake['label'] = 1\n",
    "true['label']=0"
   ]
  },
  {
   "cell_type": "code",
   "execution_count": 6,
   "metadata": {},
   "outputs": [
    {
     "name": "stdout",
     "output_type": "stream",
     "text": [
      "Index(['title', 'text', 'subject', 'date', 'label'], dtype='object')\n"
     ]
    }
   ],
   "source": [
    "df_concated = pd.concat([fake, true])\n",
    "permutation = np.random.permutation(len(df_concated))\n",
    "df = df_concated.iloc[permutation]\n",
    "print(df.columns)"
   ]
  },
  {
   "cell_type": "code",
   "execution_count": 8,
   "metadata": {},
   "outputs": [
    {
     "data": {
      "text/html": [
       "<div>\n",
       "<style scoped>\n",
       "    .dataframe tbody tr th:only-of-type {\n",
       "        vertical-align: middle;\n",
       "    }\n",
       "\n",
       "    .dataframe tbody tr th {\n",
       "        vertical-align: top;\n",
       "    }\n",
       "\n",
       "    .dataframe thead th {\n",
       "        text-align: right;\n",
       "    }\n",
       "</style>\n",
       "<table border=\"1\" class=\"dataframe\">\n",
       "  <thead>\n",
       "    <tr style=\"text-align: right;\">\n",
       "      <th></th>\n",
       "      <th>title</th>\n",
       "      <th>text</th>\n",
       "      <th>subject</th>\n",
       "      <th>label</th>\n",
       "    </tr>\n",
       "  </thead>\n",
       "  <tbody>\n",
       "    <tr>\n",
       "      <th>9966</th>\n",
       "      <td>VANITY FAIR LEAVES MELANIA Off “BEST DRESSED” ...</td>\n",
       "      <td>Immediately following the election, a few left...</td>\n",
       "      <td>politics</td>\n",
       "      <td>1</td>\n",
       "    </tr>\n",
       "    <tr>\n",
       "      <th>16549</th>\n",
       "      <td>China's Xi taps low-profile official to take o...</td>\n",
       "      <td>BEIJING (Reuters) - Chinese President Xi Jinpi...</td>\n",
       "      <td>worldnews</td>\n",
       "      <td>0</td>\n",
       "    </tr>\n",
       "    <tr>\n",
       "      <th>11308</th>\n",
       "      <td>MY LAST VIDEO EVER?…Paul Joseph Watson Explain...</td>\n",
       "      <td>This video should rock every advocate of  free...</td>\n",
       "      <td>politics</td>\n",
       "      <td>1</td>\n",
       "    </tr>\n",
       "    <tr>\n",
       "      <th>14770</th>\n",
       "      <td>Left Wing Hack George Stephanopoulos Picks A F...</td>\n",
       "      <td>This is fun! George Stephanopoulos tries his b...</td>\n",
       "      <td>politics</td>\n",
       "      <td>1</td>\n",
       "    </tr>\n",
       "    <tr>\n",
       "      <th>2130</th>\n",
       "      <td>Judge Uses Trump’s OWN WORDS To Prove ‘Travel...</td>\n",
       "      <td>In the second time in less than two months, Tr...</td>\n",
       "      <td>News</td>\n",
       "      <td>1</td>\n",
       "    </tr>\n",
       "    <tr>\n",
       "      <th>...</th>\n",
       "      <td>...</td>\n",
       "      <td>...</td>\n",
       "      <td>...</td>\n",
       "      <td>...</td>\n",
       "    </tr>\n",
       "    <tr>\n",
       "      <th>16763</th>\n",
       "      <td>Catalan leader to lose all powers once Senate ...</td>\n",
       "      <td>MADRID (Reuters) - Regional leader of Cataloni...</td>\n",
       "      <td>worldnews</td>\n",
       "      <td>0</td>\n",
       "    </tr>\n",
       "    <tr>\n",
       "      <th>15744</th>\n",
       "      <td>Je Suis HYPOCRITES: FREE SPEECH IS EMBRACED WH...</td>\n",
       "      <td>Sooo when terrorists attack Je Suis Charlie, a...</td>\n",
       "      <td>politics</td>\n",
       "      <td>1</td>\n",
       "    </tr>\n",
       "    <tr>\n",
       "      <th>15282</th>\n",
       "      <td>BRILLIANT: [VIDEO] SHERIFF CLARKE EXPLAINS HOW...</td>\n",
       "      <td>Nothing like a good dose of Sheriff Clarke to ...</td>\n",
       "      <td>politics</td>\n",
       "      <td>1</td>\n",
       "    </tr>\n",
       "    <tr>\n",
       "      <th>14679</th>\n",
       "      <td>OBAMA RAMPS UP Militarization Of EPA, FDA, VA ...</td>\n",
       "      <td>Every American should be concerned and should ...</td>\n",
       "      <td>politics</td>\n",
       "      <td>1</td>\n",
       "    </tr>\n",
       "    <tr>\n",
       "      <th>18225</th>\n",
       "      <td>WATCH: Jill Stein Believes North Korea Is Vict...</td>\n",
       "      <td>Green Party presidential candidate Jill Stein ...</td>\n",
       "      <td>left-news</td>\n",
       "      <td>1</td>\n",
       "    </tr>\n",
       "  </tbody>\n",
       "</table>\n",
       "<p>44898 rows × 4 columns</p>\n",
       "</div>"
      ],
      "text/plain": [
       "                                                   title  \\\n",
       "9966   VANITY FAIR LEAVES MELANIA Off “BEST DRESSED” ...   \n",
       "16549  China's Xi taps low-profile official to take o...   \n",
       "11308  MY LAST VIDEO EVER?…Paul Joseph Watson Explain...   \n",
       "14770  Left Wing Hack George Stephanopoulos Picks A F...   \n",
       "2130    Judge Uses Trump’s OWN WORDS To Prove ‘Travel...   \n",
       "...                                                  ...   \n",
       "16763  Catalan leader to lose all powers once Senate ...   \n",
       "15744  Je Suis HYPOCRITES: FREE SPEECH IS EMBRACED WH...   \n",
       "15282  BRILLIANT: [VIDEO] SHERIFF CLARKE EXPLAINS HOW...   \n",
       "14679  OBAMA RAMPS UP Militarization Of EPA, FDA, VA ...   \n",
       "18225  WATCH: Jill Stein Believes North Korea Is Vict...   \n",
       "\n",
       "                                                    text    subject  label  \n",
       "9966   Immediately following the election, a few left...   politics      1  \n",
       "16549  BEIJING (Reuters) - Chinese President Xi Jinpi...  worldnews      0  \n",
       "11308  This video should rock every advocate of  free...   politics      1  \n",
       "14770  This is fun! George Stephanopoulos tries his b...   politics      1  \n",
       "2130   In the second time in less than two months, Tr...       News      1  \n",
       "...                                                  ...        ...    ...  \n",
       "16763  MADRID (Reuters) - Regional leader of Cataloni...  worldnews      0  \n",
       "15744  Sooo when terrorists attack Je Suis Charlie, a...   politics      1  \n",
       "15282  Nothing like a good dose of Sheriff Clarke to ...   politics      1  \n",
       "14679  Every American should be concerned and should ...   politics      1  \n",
       "18225  Green Party presidential candidate Jill Stein ...  left-news      1  \n",
       "\n",
       "[44898 rows x 4 columns]"
      ]
     },
     "execution_count": 8,
     "metadata": {},
     "output_type": "execute_result"
    }
   ],
   "source": [
    "df.drop(columns=['date'])"
   ]
  },
  {
   "cell_type": "code",
   "execution_count": 9,
   "metadata": {},
   "outputs": [
    {
     "data": {
      "text/plain": [
       "209"
      ]
     },
     "execution_count": 9,
     "metadata": {},
     "output_type": "execute_result"
    }
   ],
   "source": [
    "df.duplicated().sum()"
   ]
  },
  {
   "cell_type": "code",
   "execution_count": 11,
   "metadata": {},
   "outputs": [
    {
     "data": {
      "text/plain": [
       "(44689, 5)"
      ]
     },
     "execution_count": 11,
     "metadata": {},
     "output_type": "execute_result"
    }
   ],
   "source": [
    "df = df.drop_duplicates()\n",
    "\n",
    "df.shape"
   ]
  },
  {
   "cell_type": "code",
   "execution_count": 12,
   "metadata": {},
   "outputs": [
    {
     "name": "stdout",
     "output_type": "stream",
     "text": [
      "title      0\n",
      "text       0\n",
      "subject    0\n",
      "date       0\n",
      "label      0\n",
      "dtype: int64\n"
     ]
    }
   ],
   "source": [
    "nan_count_per_column = df.isnull().sum()\n",
    "\n",
    "print(nan_count_per_column)"
   ]
  },
  {
   "cell_type": "code",
   "execution_count": 13,
   "metadata": {},
   "outputs": [
    {
     "data": {
      "text/plain": [
       "((44898, 5),\n",
       "                                                title  \\\n",
       " 0  OSCE watchdog slams Unites States, Russia for ...   \n",
       " 1  FOX NEWS REPORTER Busts Spying On Trump Wide O...   \n",
       " 2   Leaked Script Shows Just How Terrified The GO...   \n",
       " 3             Breaking: #EricBolling Out At Fox News   \n",
       " 4  BREAKING: DALLAS SNIPER SUSPECT Reportedly Tel...   \n",
       " \n",
       "                                                 text    subject  \\\n",
       " 0  VIENNA (Reuters) - The OSCE s media watchdog s...  worldnews   \n",
       " 1  FOX NEWS ALERT: New details on @adamhousley s ...   politics   \n",
       " 2  So Trump is going to visit a black church in D...       News   \n",
       " 3  The woman pictured above (SEE MORE BELOW) is a...   politics   \n",
       " 4  If this sniper is part of the Black Lives Matt...  left-news   \n",
       " \n",
       "                  date  label  \n",
       " 0  November 16, 2017       0  \n",
       " 1         Apr 3, 2017      1  \n",
       " 2   September 1, 2016      1  \n",
       " 3         Sep 8, 2017      1  \n",
       " 4         Jul 8, 2016      1  )"
      ]
     },
     "execution_count": 13,
     "metadata": {},
     "output_type": "execute_result"
    }
   ],
   "source": [
    "# Merge the datasets\n",
    "news_df = pd.concat([fake, true], axis=0)\n",
    "\n",
    "# Shuffle the dataset\n",
    "news_df = news_df.sample(frac=1).reset_index(drop=True)\n",
    "\n",
    "# Display the shape and first few rows of the merged dataset\n",
    "news_df.shape, news_df.head()"
   ]
  },
  {
   "cell_type": "code",
   "execution_count": null,
   "metadata": {},
   "outputs": [],
   "source": []
  }
 ],
 "metadata": {
  "kernelspec": {
   "display_name": "Python 3",
   "language": "python",
   "name": "python3"
  },
  "language_info": {
   "codemirror_mode": {
    "name": "ipython",
    "version": 3
   },
   "file_extension": ".py",
   "mimetype": "text/x-python",
   "name": "python",
   "nbconvert_exporter": "python",
   "pygments_lexer": "ipython3",
   "version": "3.11.4"
  }
 },
 "nbformat": 4,
 "nbformat_minor": 2
}
