{
 "cells": [
  {
   "cell_type": "code",
   "execution_count": 2,
   "metadata": {},
   "outputs": [],
   "source": [
    "#Data Understanding and Preparation\n",
    "import pandas as pd\n",
    "import numpy as np\n",
    "import matplotlib.pyplot as plt\n",
    "import seaborn as sns"
   ]
  },
  {
   "cell_type": "markdown",
   "metadata": {},
   "source": [
    "N-gram"
   ]
  },
  {
   "cell_type": "code",
   "execution_count": null,
   "metadata": {},
   "outputs": [],
   "source": []
  },
  {
   "cell_type": "code",
   "execution_count": null,
   "metadata": {},
   "outputs": [],
   "source": [
    "from sklearn.feature_extraction.text import CountVectorizer\n",
    "from wordcloud import WordCloud\n",
    "import matplotlib.pyplot as plt\n",
    "\n",
    "ngram_df = pd.read_csv('Preprocessed.csv')\n",
    "\n",
    "# Create the vectorizer with ngram_range=(1, 4)\n",
    "ngram_vectorizer = CountVectorizer(ngram_range=(1, 4))\n",
    "\n",
    "# Fit the vectorizer to the text data\n",
    "ngram_vectorizer.fit(ngram_df)\n",
    "\n",
    "# Get the feature names (n-grams)\n",
    "feature_names = ngram_vectorizer.get_feature_names_out()\n",
    "\n",
    "# Create a dictionary with n-grams and their counts\n",
    "ngram_counts = dict(zip(feature_names, ngram_vectorizer.transform(ngram_df).toarray()[0]))\n",
    "\n",
    "# Generate a word cloud based on the n-grams and their counts\n",
    "wordcloud = WordCloud(width=800, height=400, background_color='white').generate_from_frequencies(ngram_counts)\n",
    "\n",
    "# Display the word cloud\n",
    "plt.figure(figsize=(10, 5))\n",
    "plt.imshow(wordcloud, interpolation='bilinear')\n",
    "plt.axis('off')\n",
    "plt.show()\n"
   ]
  }
 ],
 "metadata": {
  "kernelspec": {
   "display_name": "Python 3",
   "language": "python",
   "name": "python3"
  },
  "language_info": {
   "codemirror_mode": {
    "name": "ipython",
    "version": 3
   },
   "file_extension": ".py",
   "mimetype": "text/x-python",
   "name": "python",
   "nbconvert_exporter": "python",
   "pygments_lexer": "ipython3",
   "version": "3.9.12"
  }
 },
 "nbformat": 4,
 "nbformat_minor": 2
}
