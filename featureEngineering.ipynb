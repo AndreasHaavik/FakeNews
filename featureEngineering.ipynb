{
 "cells": [
  {
   "cell_type": "code",
   "execution_count": 2,
   "metadata": {},
   "outputs": [
    {
     "name": "stderr",
     "output_type": "stream",
     "text": [
      "/var/folders/9p/7sb9_6rs4k14xg5ncv4qnqhm0000gn/T/ipykernel_4359/2537213780.py:2: DeprecationWarning: \n",
      "Pyarrow will become a required dependency of pandas in the next major release of pandas (pandas 3.0),\n",
      "(to allow more performant data types, such as the Arrow string type, and better interoperability with other libraries)\n",
      "but was not found to be installed on your system.\n",
      "If this would cause problems for you,\n",
      "please provide us feedback at https://github.com/pandas-dev/pandas/issues/54466\n",
      "        \n",
      "  import pandas as pd\n"
     ]
    }
   ],
   "source": [
    "#Data Understanding and Preparation\n",
    "import pandas as pd\n",
    "import numpy as np\n",
    "import matplotlib.pyplot as plt\n",
    "import seaborn as sns\n",
    "\n",
    "ngram_df = pd.read_csv('Preprocessed.csv')"
   ]
  },
  {
   "cell_type": "markdown",
   "metadata": {},
   "source": [
    "N-gram"
   ]
  },
  {
   "cell_type": "code",
   "execution_count": 3,
   "metadata": {},
   "outputs": [],
   "source": [
    "from sklearn.feature_extraction.text import CountVectorizer\n",
    "\n",
    "# List to store the n-gram feature DataFrames for each text column\n",
    "ngram_dfs = []\n",
    "\n",
    "# Iterate over each text column\n",
    "for column in ngram_df.select_dtypes(include=['object']).columns:\n",
    "    # Fill missing values with an empty string\n",
    "    corpus = ngram_df[column].fillna('').tolist()\n",
    "\n",
    "    # Initialize CountVectorizer for n-grams\n",
    "    vectorizer = CountVectorizer(ngram_range=(1, 3))  # Adjust n-gram range as needed\n",
    "\n",
    "    # Fit and transform the corpus\n",
    "    X = vectorizer.fit_transform(corpus)\n",
    "\n",
    "    # Convert the result into a DataFrame\n",
    "    ngram_features_df = pd.DataFrame(X.toarray(), columns=vectorizer.get_feature_names_out())\n",
    "\n",
    "    # Concatenate the n-gram features DataFrame with the original DataFrame\n",
    "   # ngram_df_with_features = pd.concat([ngram_df, ngram_features_df], axis=1)\n",
    "\n",
    "    # Append the DataFrame with n-gram features to the list\n",
    "    #ngram_dfs.append(ngram_df_with_features)\n",
    "\n",
    "# Concatenate all DataFrames in the list along the column axis\n",
    "#ngram_df_final = pd.concat(ngram_dfs, axis=1)\n",
    "\n"
   ]
  },
  {
   "cell_type": "code",
   "execution_count": null,
   "metadata": {},
   "outputs": [],
<<<<<<< HEAD
   "source": [
    "from sklearn.feature_extraction.text import CountVectorizer\n",
    "from wordcloud import WordCloud\n",
    "import matplotlib.pyplot as plt\n",
    "\n",
    "ngram_df = pd.read_csv('Preprocessed.csv')\n",
    "\n",
    "# Create the vectorizer with ngram_range=(1, 4)\n",
    "ngram_vectorizer = CountVectorizer(ngram_range=(1, 4))\n",
    "\n",
    "# Fit the vectorizer to the text data\n",
    "ngram_vectorizer.fit(ngram_df)\n",
    "\n",
    "# Get the feature names (n-grams)\n",
    "feature_names = ngram_vectorizer.get_feature_names_out()\n",
    "\n",
    "# Create a dictionary with n-grams and their counts\n",
    "ngram_counts = dict(zip(feature_names, ngram_vectorizer.transform(ngram_df).toarray()[0]))\n",
    "\n",
    "# Generate a word cloud based on the n-grams and their counts\n",
    "wordcloud = WordCloud(width=800, height=400, background_color='white').generate_from_frequencies(ngram_counts)\n",
    "\n",
    "# Display the word cloud\n",
    "plt.figure(figsize=(10, 5))\n",
    "plt.imshow(wordcloud, interpolation='bilinear')\n",
    "plt.axis('off')\n",
    "plt.show()\n"
   ]
=======
   "source": []
>>>>>>> main
  }
 ],
 "metadata": {
  "kernelspec": {
   "display_name": "Python 3",
   "language": "python",
   "name": "python3"
  },
  "language_info": {
   "codemirror_mode": {
    "name": "ipython",
    "version": 3
   },
   "file_extension": ".py",
   "mimetype": "text/x-python",
   "name": "python",
   "nbconvert_exporter": "python",
   "pygments_lexer": "ipython3",
   "version": "3.9.12"
  }
 },
 "nbformat": 4,
 "nbformat_minor": 2
}
